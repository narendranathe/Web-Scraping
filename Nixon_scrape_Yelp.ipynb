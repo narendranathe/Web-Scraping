{
  "cells": [
    {
      "cell_type": "markdown",
      "metadata": {
        "id": "view-in-github",
        "colab_type": "text"
      },
      "source": [
        "<a href=\"https://colab.research.google.com/github/narendranathe/Web-Scraping/blob/main/Nixon_scrape_Yelp.ipynb\" target=\"_parent\"><img src=\"https://colab.research.google.com/assets/colab-badge.svg\" alt=\"Open In Colab\"/></a>"
      ]
    },
    {
      "cell_type": "code",
      "execution_count": 4,
      "metadata": {
        "id": "GtOe7_MWZLV5"
      },
      "outputs": [],
      "source": [
        "!pip install selenium"
      ]
    },
    {
      "cell_type": "code",
      "source": [
        "# Import all necessary libraries\n",
        "from selenium import webdriver\n",
        "from selenium.webdriver.chrome.options import Options\n",
        "from bs4 import BeautifulSoup\n",
        "import time\n",
        "import openpyxl\n",
        "\n",
        "# Set up Chrome options for Selenium WebDriver\n",
        "chrome_options = Options()\n",
        "chrome_options.add_argument('--headless')  # Enable headless mode for background execution\n",
        "chrome_options.add_argument('--no-sandbox')  # Bypass OS security model, required on Linux if running as root\n",
        "chrome_options.add_argument('--disable-dev-shm-usage')  # Overcome limited resource problems\n",
        "d = webdriver.Chrome(options=chrome_options)\n",
        "\n",
        "# Initialize variables\n",
        "i = 0\n",
        "all_reviews = []\n",
        "\n",
        "# Loop to paginate through the Yelp reviews\n",
        "while True:\n",
        "    # Construct the URL with pagination\n",
        "    url = \"https://www.yelp.com/biz/richard-nixon-presidential-library-and-museum-yorba-linda-2?start=\" + str(i)\n",
        "    i += 10  # Increment to fetch the next page of reviews\n",
        "    d.get(url)  # Navigate to the page\n",
        "    soup = BeautifulSoup(d.page_source, 'html.parser')  # Parse the page source with BeautifulSoup\n",
        "\n",
        "    # Find the main reviews container\n",
        "    temp = soup.find('div', {'class': 'css-1qn0b6x', 'id': 'reviews'})\n",
        "    temp = temp.find('ul', class_='list__09f24__ynIEd') if temp else None\n",
        "    reviews = temp.find_all('li', class_='css-1q2nwpv') if temp else []\n",
        "    if len(reviews) < 2:  # Break the loop if there are less than two reviews, indicating end of reviews\n",
        "        break\n",
        "\n",
        "    # Loop through each review and extract details\n",
        "    for review in reviews:\n",
        "        # Extract user details\n",
        "        userdetails = review.find('div', class_='user-passport-info')\n",
        "        name = userdetails.find('a', class_='css-19v1rkv').text if userdetails.find('a', class_='css-19v1rkv') else \"Not found\"\n",
        "        elite = userdetails.find('div', class_='elite-badge__09f24__dykWK').find('span', class_='css-1adhs7a').text if userdetails.find('div', class_='elite-badge__09f24__dykWK') else \"Not found\"\n",
        "        location = userdetails.find('span', class_='css-qgunke').text if userdetails.find('span', class_='css-qgunke') else \"Not found\"\n",
        "\n",
        "        # Extract user stats\n",
        "        userstats = review.find('div', {'class':'user-passport-stats__09f24__NQxB4'})\n",
        "        friends = userstats.find('div', {'aria-label':'Friends'}).text if userstats.find('div', {'aria-label':'Friends'}) else \"Not found\"\n",
        "        review_count = userstats.find('div', {'aria-label':'Reviews'}).text if userstats.find('div', {'aria-label':'Reviews'}) else \"Not found\"\n",
        "        pictures = userstats.find('div', {'aria-label':'Photos'}).text if userstats.find('div', {'aria-label':'Photos'}) else \"Not found\"\n",
        "\n",
        "        # Extract review details\n",
        "        ratings = review.find('div', class_='five-stars__09f24__mBKym')\n",
        "        ratings_text = ratings['aria-label'] if ratings and 'aria-label' in ratings.attrs else \"Not found\"\n",
        "        review_date = review.find('span', class_='css-chan6m').text if review.find('span', class_='css-chan6m') else \"Not found\"\n",
        "        is_review_updated = True if review.find('span', class_='reviewQualifier__09f24__iY9mB') else False\n",
        "\n",
        "        # Extract additional information\n",
        "        extra = review.find('div', class_='margin-b2__09f24__CEMjT')\n",
        "        photos = extra.find('a', class_='css-19v1rkv').text if extra and extra.find('a', class_='css-19v1rkv') else \"Not found\"\n",
        "        check_ins = extra.find('span', class_='display--inline__09f24__c6N_k').text if extra and extra.find('span', class_='display--inline__09f24__c6N_k') else \"Not found\"\n",
        "        comment = review.find('p', class_='comment__09f24__D0cxf').text if review.find('p', class_='comment__09f24__D0cxf') else \"Not found\"\n",
        "\n",
        "        # Extract review reactions\n",
        "        reactions = [tt.text for tt in review.find_all('span', class_='css-1xfc281')]\n",
        "\n",
        "        # Store the extracted data in a list\n",
        "        review_data = [name, elite, location, friends, review_count, pictures, ratings_text, review_date, is_review_updated, photos, check_ins, comment, str(reactions)]\n",
        "        all_reviews.append(review_data)\n",
        "\n",
        "# Quit the WebDriver session\n",
        "d.quit()\n",
        "\n",
        "# Save the scraped data to a text file\n",
        "with open(\"yelp_reviews.txt\", \"w\", encoding=\"utf-8\") as txt_file:\n",
        "    for review_data in all_reviews:\n",
        "        txt_file.write(\"\\t\".join(map(str, review_data)) + \"\\n\")\n",
        "\n",
        "# Save the scraped data to an Excel file\n",
        "wb = openpyxl.Workbook()\n",
        "ws = wb.active\n",
        "headers = [\"name\", \"elite\", \"location\", \"friends\", \"review_count\", \"pictures\", \"ratings_text\", \"review_date\", \"is_review_updated\", \"photos\", \"check_ins\", \"comment\", \"reactions\"]\n",
        "ws.append(headers)  # Add headers to the Excel sheet\n",
        "for review_data in all_reviews:\n",
        "    ws.append(review_data)  # Add review data\n",
        "wb.save(\"yelp_reviews.xlsx\")  # Save the workbook\n",
        "wb.close()  # Close the workbook\n"
      ],
      "metadata": {
        "id": "jIzwTU3NhsTJ"
      },
      "execution_count": 5,
      "outputs": []
    },
    {
      "cell_type": "code",
      "source": [
        "from google.colab import files\n",
        "\n",
        "# Download the Excel file\n",
        "files.download('yelp_reviews.xlsx')\n",
        "\n",
        "# Download the text file\n",
        "files.download('yelp_reviews.txt')"
      ],
      "metadata": {
        "colab": {
          "base_uri": "https://localhost:8080/",
          "height": 17
        },
        "id": "TLXD7JUGJs8u",
        "outputId": "7bb3e390-735e-4e9f-e941-6facc6474ca7"
      },
      "execution_count": 6,
      "outputs": [
        {
          "output_type": "display_data",
          "data": {
            "text/plain": [
              "<IPython.core.display.Javascript object>"
            ],
            "application/javascript": [
              "\n",
              "    async function download(id, filename, size) {\n",
              "      if (!google.colab.kernel.accessAllowed) {\n",
              "        return;\n",
              "      }\n",
              "      const div = document.createElement('div');\n",
              "      const label = document.createElement('label');\n",
              "      label.textContent = `Downloading \"${filename}\": `;\n",
              "      div.appendChild(label);\n",
              "      const progress = document.createElement('progress');\n",
              "      progress.max = size;\n",
              "      div.appendChild(progress);\n",
              "      document.body.appendChild(div);\n",
              "\n",
              "      const buffers = [];\n",
              "      let downloaded = 0;\n",
              "\n",
              "      const channel = await google.colab.kernel.comms.open(id);\n",
              "      // Send a message to notify the kernel that we're ready.\n",
              "      channel.send({})\n",
              "\n",
              "      for await (const message of channel.messages) {\n",
              "        // Send a message to notify the kernel that we're ready.\n",
              "        channel.send({})\n",
              "        if (message.buffers) {\n",
              "          for (const buffer of message.buffers) {\n",
              "            buffers.push(buffer);\n",
              "            downloaded += buffer.byteLength;\n",
              "            progress.value = downloaded;\n",
              "          }\n",
              "        }\n",
              "      }\n",
              "      const blob = new Blob(buffers, {type: 'application/binary'});\n",
              "      const a = document.createElement('a');\n",
              "      a.href = window.URL.createObjectURL(blob);\n",
              "      a.download = filename;\n",
              "      div.appendChild(a);\n",
              "      a.click();\n",
              "      div.remove();\n",
              "    }\n",
              "  "
            ]
          },
          "metadata": {}
        },
        {
          "output_type": "display_data",
          "data": {
            "text/plain": [
              "<IPython.core.display.Javascript object>"
            ],
            "application/javascript": [
              "download(\"download_09209564-25e6-4a63-97ff-7a32418dca72\", \"yelp_reviews.xlsx\", 9222)"
            ]
          },
          "metadata": {}
        },
        {
          "output_type": "display_data",
          "data": {
            "text/plain": [
              "<IPython.core.display.Javascript object>"
            ],
            "application/javascript": [
              "\n",
              "    async function download(id, filename, size) {\n",
              "      if (!google.colab.kernel.accessAllowed) {\n",
              "        return;\n",
              "      }\n",
              "      const div = document.createElement('div');\n",
              "      const label = document.createElement('label');\n",
              "      label.textContent = `Downloading \"${filename}\": `;\n",
              "      div.appendChild(label);\n",
              "      const progress = document.createElement('progress');\n",
              "      progress.max = size;\n",
              "      div.appendChild(progress);\n",
              "      document.body.appendChild(div);\n",
              "\n",
              "      const buffers = [];\n",
              "      let downloaded = 0;\n",
              "\n",
              "      const channel = await google.colab.kernel.comms.open(id);\n",
              "      // Send a message to notify the kernel that we're ready.\n",
              "      channel.send({})\n",
              "\n",
              "      for await (const message of channel.messages) {\n",
              "        // Send a message to notify the kernel that we're ready.\n",
              "        channel.send({})\n",
              "        if (message.buffers) {\n",
              "          for (const buffer of message.buffers) {\n",
              "            buffers.push(buffer);\n",
              "            downloaded += buffer.byteLength;\n",
              "            progress.value = downloaded;\n",
              "          }\n",
              "        }\n",
              "      }\n",
              "      const blob = new Blob(buffers, {type: 'application/binary'});\n",
              "      const a = document.createElement('a');\n",
              "      a.href = window.URL.createObjectURL(blob);\n",
              "      a.download = filename;\n",
              "      div.appendChild(a);\n",
              "      a.click();\n",
              "      div.remove();\n",
              "    }\n",
              "  "
            ]
          },
          "metadata": {}
        },
        {
          "output_type": "display_data",
          "data": {
            "text/plain": [
              "<IPython.core.display.Javascript object>"
            ],
            "application/javascript": [
              "download(\"download_52349a51-95d0-4dd3-9f42-b2ac2c64ff91\", \"yelp_reviews.txt\", 8167)"
            ]
          },
          "metadata": {}
        }
      ]
    }
  ],
  "metadata": {
    "colab": {
      "provenance": [],
      "include_colab_link": true
    },
    "kernelspec": {
      "display_name": "Python 3",
      "name": "python3"
    },
    "language_info": {
      "name": "python"
    }
  },
  "nbformat": 4,
  "nbformat_minor": 0
}