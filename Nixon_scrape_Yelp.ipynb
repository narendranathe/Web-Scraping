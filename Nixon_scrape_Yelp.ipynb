{
  "cells": [
    {
      "cell_type": "markdown",
      "metadata": {
        "id": "view-in-github",
        "colab_type": "text"
      },
      "source": [
        "<a href=\"https://colab.research.google.com/github/narendranathe/Web-Scraping/blob/main/Nixon_scrape_Yelp.ipynb\" target=\"_parent\"><img src=\"https://colab.research.google.com/assets/colab-badge.svg\" alt=\"Open In Colab\"/></a>"
      ]
    },
    {
      "cell_type": "code",
      "execution_count": null,
      "metadata": {
        "colab": {
          "base_uri": "https://localhost:8080/"
        },
        "id": "GtOe7_MWZLV5",
        "outputId": "4900b47b-b24d-4599-d979-91b1cccaa1cc"
      },
      "outputs": [
        {
          "output_type": "stream",
          "name": "stdout",
          "text": [
            "Requirement already satisfied: selenium in /usr/local/lib/python3.10/dist-packages (4.12.0)\n",
            "Requirement already satisfied: urllib3[socks]<3,>=1.26 in /usr/local/lib/python3.10/dist-packages (from selenium) (2.0.4)\n",
            "Requirement already satisfied: trio~=0.17 in /usr/local/lib/python3.10/dist-packages (from selenium) (0.22.2)\n",
            "Requirement already satisfied: trio-websocket~=0.9 in /usr/local/lib/python3.10/dist-packages (from selenium) (0.10.4)\n",
            "Requirement already satisfied: certifi>=2021.10.8 in /usr/local/lib/python3.10/dist-packages (from selenium) (2023.7.22)\n",
            "Requirement already satisfied: attrs>=20.1.0 in /usr/local/lib/python3.10/dist-packages (from trio~=0.17->selenium) (23.1.0)\n",
            "Requirement already satisfied: sortedcontainers in /usr/local/lib/python3.10/dist-packages (from trio~=0.17->selenium) (2.4.0)\n",
            "Requirement already satisfied: idna in /usr/local/lib/python3.10/dist-packages (from trio~=0.17->selenium) (3.4)\n",
            "Requirement already satisfied: outcome in /usr/local/lib/python3.10/dist-packages (from trio~=0.17->selenium) (1.2.0)\n",
            "Requirement already satisfied: sniffio in /usr/local/lib/python3.10/dist-packages (from trio~=0.17->selenium) (1.3.0)\n",
            "Requirement already satisfied: exceptiongroup>=1.0.0rc9 in /usr/local/lib/python3.10/dist-packages (from trio~=0.17->selenium) (1.1.3)\n",
            "Requirement already satisfied: wsproto>=0.14 in /usr/local/lib/python3.10/dist-packages (from trio-websocket~=0.9->selenium) (1.2.0)\n",
            "Requirement already satisfied: pysocks!=1.5.7,<2.0,>=1.5.6 in /usr/local/lib/python3.10/dist-packages (from urllib3[socks]<3,>=1.26->selenium) (1.7.1)\n",
            "Requirement already satisfied: h11<1,>=0.9.0 in /usr/local/lib/python3.10/dist-packages (from wsproto>=0.14->trio-websocket~=0.9->selenium) (0.14.0)\n"
          ]
        }
      ],
      "source": [
        "!pip install selenium"
      ]
    },
    {
      "cell_type": "code",
      "execution_count": 42,
      "metadata": {
        "id": "K39Md8ZOJX2B"
      },
      "outputs": [],
      "source": [
        "from selenium import webdriver\n",
        "from selenium.webdriver.chrome.options import Options\n",
        "from bs4 import BeautifulSoup\n",
        "import re\n",
        "import time\n",
        "import openpyxl\n",
        "\n",
        "chrome_options = Options()\n",
        "chrome_options.add_argument('--headless')\n",
        "chrome_options.add_argument('--no-sandbox')\n",
        "chrome_options.add_argument('--disable-dev-shm-usage')\n",
        "d = webdriver.Chrome(options=chrome_options)\n",
        "\n",
        "i = 0\n",
        "all_reviews = []\n",
        "\n",
        "while True:\n",
        "    url = \"https://www.yelp.com/biz/richard-nixon-presidential-library-and-museum-yorba-linda-2?start=\" + str(i)\n",
        "    i = i + 10\n",
        "    d.get(url)\n",
        "    soup = BeautifulSoup(d.page_source, 'html.parser')\n",
        "    temp = soup.find('div', {'class': 'css-1qn0b6x', 'id': 'reviews'})\n",
        "    temp = temp.find('ul', class_ = 'list__09f24__ynIEd')\n",
        "    reviews = temp.find_all('li', class_= 'css-1q2nwpv') if temp else []\n",
        "    if len(reviews) < 2:\n",
        "        break\n",
        "\n",
        "    for review in reviews:\n",
        "        userdetails = review.find('div', class_ = 'user-passport-info')\n",
        "\n",
        "        temp = userdetails.find('a', class_ = 'css-19v1rkv')\n",
        "        name = temp.text if temp else \"Not found\"\n",
        "\n",
        "        temp = userdetails.find('div', class_='elite-badge__09f24__dykWK')\n",
        "        temp = temp.find('span', class_='css-1adhs7a') if temp else None\n",
        "        elite = temp.text if temp else \"Not found\"\n",
        "\n",
        "        temp = userdetails.find('span', class_ = 'css-qgunke')\n",
        "        location = temp.text if temp else \"Not found\"\n",
        "\n",
        "        userstats =  review.find('div', {'class':'user-passport-stats__09f24__NQxB4'})\n",
        "\n",
        "        temp = userstats.find('div', {'aria-label':'Friends'})\n",
        "        friends = temp.text if temp else \"Not found\"\n",
        "\n",
        "        temp = userstats.find('div', {'aria-label':'Reviews'})\n",
        "        review_count = temp.text if temp else \"Not found\"\n",
        "\n",
        "        temp = userstats.find('div', {'aria-label':'Photos'})\n",
        "        pictures = temp.text if temp else \"Not found\"\n",
        "\n",
        "        ratings = review.find('div', class_='five-stars__09f24__mBKym')\n",
        "        ratings_text = ratings['aria-label'] if ratings and 'aria-label' in ratings.attrs else \"Not found\"\n",
        "\n",
        "        temp = review.find('span', class_ = 'css-chan6m')\n",
        "        review_date = temp.text if temp else \"Not found\"\n",
        "\n",
        "        temp = review.find('span', class_='reviewQualifier__09f24__iY9mB')\n",
        "        is_review_updated = True if temp else False\n",
        "\n",
        "        extra = review.find('div', class_='margin-b2__09f24__CEMjT')\n",
        "\n",
        "        temp = extra.find('a',class_='css-19v1rkv') if extra else None\n",
        "        photos = temp.text if temp else \"Not found\"\n",
        "\n",
        "        temp = extra.find('span',class_='display--inline__09f24__c6N_k') if extra else None\n",
        "        check_ins = temp.text if temp else \"Not found\"\n",
        "\n",
        "        temp = review.find('p', class_='comment__09f24__D0cxf')\n",
        "        comment = temp.text if temp else \"Not found\"\n",
        "\n",
        "        temp = review.find('div', class_ = 'arrange__09f24__LDfbs vertical-align-middle__09f24__zU9sE css-1qn0b6x')\n",
        "        temp = temp.find_all('span', class_ = 'css-1xfc281')\n",
        "\n",
        "        reactions = []\n",
        "        for tt in temp:\n",
        "          reactions.append(tt.text)\n",
        "\n",
        "        # Store the data in a list of lists\n",
        "        review_data = [name, elite, location, friends, review_count, pictures, ratings_text, review_date, is_review_updated, photos, check_ins, comment, str(reactions)]\n",
        "        all_reviews.append(review_data)\n",
        "\n",
        "d.quit()"
      ]
    },
    {
      "cell_type": "code",
      "execution_count": 49,
      "metadata": {
        "id": "7J6e4p3wJxPA"
      },
      "outputs": [],
      "source": [
        "# Save data to a text file\n",
        "with open(\"yelp_reviews.txt\", \"w\", encoding=\"utf-8\") as txt_file:\n",
        "    for review_data in all_reviews:\n",
        "        txt_file.write(\"\\t\".join(map(str, review_data)) + \"\\n\")\n",
        "\n",
        "# Save data to an Excel file\n",
        "wb = openpyxl.Workbook()\n",
        "ws = wb.active\n",
        "\n",
        "# Add headers\n",
        "headers = [\"name\", \"elite\", \"location\", \"friends\", \"review_count\", \"pictures\", \"ratings_text\", \"review_date\", \"is_review_updated\", \"photos\", \"check_ins\", \"comment\", \"reactions\"]\n",
        "ws.append(headers)\n",
        "\n",
        "# Add data to the Excel worksheet\n",
        "for review_data in all_reviews:\n",
        "    ws.append(review_data)\n",
        "\n",
        "# Save the Excel workbook\n",
        "wb.save(\"yelp_reviews.xlsx\")\n",
        "\n",
        "# Close the workbook\n",
        "wb.close()\n"
      ]
    }
  ],
  "metadata": {
    "colab": {
      "provenance": [],
      "include_colab_link": true
    },
    "kernelspec": {
      "display_name": "Python 3",
      "name": "python3"
    },
    "language_info": {
      "name": "python"
    }
  },
  "nbformat": 4,
  "nbformat_minor": 0
}